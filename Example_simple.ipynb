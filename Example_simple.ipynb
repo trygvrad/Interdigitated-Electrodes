{
 "cells": [
  {
   "cell_type": "markdown",
   "metadata": {},
   "source": [
    "# Simple example of use\n",
    "## Geometry"
   ]
  },
  {
   "cell_type": "markdown",
   "metadata": {},
   "source": [
    "For this example we will use a simple geometry as shown in the figure below:"
   ]
  },
  {
   "cell_type": "markdown",
   "metadata": {},
   "source": [
    "<img src=\"simple_geometry.png\">"
   ]
  },
  {
   "cell_type": "markdown",
   "metadata": {},
   "source": [
    "We define the geometry of the finger structure as follows:\n",
    "* N: number of fingers\n",
    "* L: finger overlap length\n",
    "* a: finger spacing\n",
    "* b: finger width\n",
    "\n",
    "Additionally we need to define the materials:\n",
    "* 3 different materials - need to specify dielectric constant along the x and y directions\n",
    "* 1 material with a finite thickness\n",
    "\n",
    "Finally there are two interfaces, and we need to define what interface the electrodes are at"
   ]
  },
  {
   "cell_type": "code",
   "execution_count": 1,
   "metadata": {},
   "outputs": [],
   "source": [
    "# we start with the fingers:\n",
    "N = 100 # In this example we have 1000 fingers\n",
    "L = 10**-3 # We input L in meters. In this example the finger overlap length is 1 mm\n",
    "a = 3*10**-6 # We here define the finger width and spacing in m, 3 µm and 2 µm correspondingly. \n",
    "b = 2*10**-6"
   ]
  },
  {
   "cell_type": "code",
   "execution_count": 2,
   "metadata": {},
   "outputs": [],
   "source": [
    "# we then define the materials\n",
    "# Let us assume the materials are isotropic (same dielectric constant along x and y axis)\n",
    "relative_dielectric_constant_air = 1 # the relatice dielectric constant of the medium above the electrodes, let us say air\n",
    "relative_dielectric_constant_film = 5 # the relatice dielectric constant of the film\n",
    "relative_dielectric_constant_substrate = 2 # the relative dielectric constant of the substrate\n",
    "t = 1*10**-6 # the thickness of the film in m, let us say 1 µm"
   ]
  },
  {
   "cell_type": "markdown",
   "metadata": {},
   "source": [
    "## Basic use of the code\n",
    "The code will let us simulate the capcitance per unit lenght of two cases:\n",
    "* for a pair of electrodes part of an infinite series C_I\n",
    "* for a single pair of electrodes, C_P\n",
    "\n",
    "We can then use the following equation to calculate the capacitance of the full structure:\n",
    "```\n",
    "C_tot = L*((N-3)*C_I+4*C_I*C_P/(C_I*C_P))\n",
    "```\n",
    "(as described in the paper)"
   ]
  },
  {
   "cell_type": "code",
   "execution_count": 3,
   "metadata": {},
   "outputs": [],
   "source": [
    "def get_C_tot(C_I,C_P,L,N):\n",
    "    C_tot = L*((N-3)*C_I+4*C_I*C_P/(C_I+C_P))\n",
    "    return C_tot"
   ]
  },
  {
   "cell_type": "markdown",
   "metadata": {},
   "source": [
    "## Interacting with the code\n",
    "The code is object oriented. We will create an objects that contain the geometry, and then call upon these objects to get C_I and C_P. We will start with C_I. \n",
    "\n",
    "The class we need is infinite_fourier.multiple_recursive_images, and requires the following input:\n",
    "* etas : list of float - cover fraction of the electrode(s) must be a list of the same length as there are interfaces, i.e. 1 shorter than  eps_x_of_layers\n",
    "* thickness_of_layers : list of floats - normalized thicknesses of the layers, this list will be 2 shorter than eps_x_of_layers and eps_y_of_layers, as the outermost layers have no defined thickness, but are infinite\n",
    "* eps_x_of_layers : list of floats - in-plane dielectric constant of the layers\n",
    "* eps_y_of_layers : list of floats - out-of-plane dielectric constant of the layers\n",
    "\n",
    "Note that the code uses a normalized thickness, defined by the transformation:\n",
    "* normalized_thickness = t/(a+b)"
   ]
  },
  {
   "cell_type": "code",
   "execution_count": 4,
   "metadata": {},
   "outputs": [],
   "source": [
    "# let us transform the geometry to the form the code expects\n",
    "etas = [b/(a+b),0]\n",
    "thickness_of_layers = [t/(a+b)]\n",
    "eps_x_of_layers = [relative_dielectric_constant_air, relative_dielectric_constant_film,relative_dielectric_constant_substrate]\n",
    "eps_y_of_layers = eps_x_of_layers"
   ]
  },
  {
   "cell_type": "code",
   "execution_count": 5,
   "metadata": {},
   "outputs": [
    {
     "name": "stdout",
     "output_type": "stream",
     "text": [
      "C_I = 1.9175230344419248e-11 F/m\n"
     ]
    }
   ],
   "source": [
    "import infinite_fourier\n",
    "C_I_object = infinite_fourier.multiple_recursive_images(etas,thickness_of_layers,eps_x_of_layers,eps_y_of_layers)\n",
    "C_I = C_I_object.get_C()\n",
    "print('C_I =',C_I, 'F/m')"
   ]
  },
  {
   "cell_type": "markdown",
   "metadata": {},
   "source": [
    "Let us now calculate C_P\n",
    "for this we need pair_conformal.multiple_recursive_images, which takes the same input"
   ]
  },
  {
   "cell_type": "code",
   "execution_count": 6,
   "metadata": {},
   "outputs": [
    {
     "name": "stdout",
     "output_type": "stream",
     "text": [
      "C_P = 2.8263872430864287e-11 F/m\n"
     ]
    }
   ],
   "source": [
    "import pair_conformal\n",
    "C_P_object = pair_conformal.multiple_recursive_images(etas,thickness_of_layers,eps_x_of_layers,eps_y_of_layers)\n",
    "C_P = C_P_object.get_C()\n",
    "print('C_P =',C_P, 'F/m')"
   ]
  },
  {
   "cell_type": "markdown",
   "metadata": {},
   "source": [
    "## The total capacitance"
   ]
  },
  {
   "cell_type": "code",
   "execution_count": 7,
   "metadata": {},
   "outputs": [
    {
     "name": "stdout",
     "output_type": "stream",
     "text": [
      "C_tot = 1.905695194555167e-12 F\n"
     ]
    }
   ],
   "source": [
    "C_tot = get_C_tot(C_I,C_P,L,N)\n",
    "print('C_tot =',C_tot, 'F')"
   ]
  },
  {
   "cell_type": "markdown",
   "metadata": {},
   "source": [
    "## Optional variables for C_I\n",
    "infinite_fourier.multiple_recursive_images takes the following optional arguments:\n",
    "* LAcomp: int or list of ints, optional - the number of linear algebra components used for each set of electrodes.\n",
    "* max_fourier_n : int, optional - maximum number of fourier components. Note that the floating point limit is reached around 190 components, defaults to 120\n",
    "* voltages : list of floats or None, optional - used for advanced geometries with multiple sets of electrodes on different interfaces\n",
    "* accuracy_limit : float, optional - reflections with amplitude less than accuracy_limit are ignored, defaults to 10**-15\n",
    "\n",
    "Of these, *LAcomp* and *max_fourier_n* may be tuned to reach a desired balance of accuracy versus speed for the desired geometry \n",
    "\n",
    "## Optional variables for C_P\n",
    "pair_conformal.multiple_recursive_images takes the following optional arguments:\n",
    "* LAcomp: same as for C_I\n",
    "* max_reflections : int, optional - maximum number of reflections to considder, defaults to 8\n",
    "* voltages : same as for C_I\n",
    "* periods : list of floats or None - used for advanced geometries with multiple sets of electrodes on different interfaces\n",
    "* accuracy_limit : same as for C_I\n",
    "\n",
    "Of these, *LAcomp* and *max_reflections* may be tuned to reach a desired balance of accuracy versus speed for the desired geometry. *max_reflections* takes the place of *max_fourier_n* because a single pair of electrodes cannot be calculated using fourier components, so a conformal mapping aproach is used instead. \n"
   ]
  },
  {
   "cell_type": "markdown",
   "metadata": {},
   "source": [
    "# Visualizing the electric field\n",
    "The code does not come with a visualization package. However example function for visualizing the potential used to calculate C_I and C_P are shown below. This is based on repeatedly calling .get_V on the object in question.\n",
    "\n",
    "We start with visualizing C_I"
   ]
  },
  {
   "cell_type": "code",
   "execution_count": 10,
   "metadata": {},
   "outputs": [
    {
     "data": {
      "image/png": "[encoded data removed]",
      "text/plain": [
       "<Figure size 432x288 with 2 Axes>"
      ]
     },
     "metadata": {
      "needs_background": "light"
     },
     "output_type": "display_data"
    }
   ],
   "source": [
    "import numpy as np\n",
    "import matplotlib\n",
    "import matplotlib.pyplot as plt\n",
    "def get_plot_pair(etas,thickness_of_layers,eps_x_of_layers,eps_y_of_layers,LAcomp=8,max_fourier_n=120,num_cells=20):\n",
    "    # make case\n",
    "    simple_geometry_case = infinite_fourier.multiple_recursive_images(etas,thickness_of_layers,\n",
    "                        eps_x_of_layers,eps_y_of_layers,LAcomp,max_fourier_n,accuracy_limit=10**-15)\n",
    "    minx=-0.5\n",
    "    maxx=0.5\n",
    "    miny=-0.5\n",
    "    maxy=0.5\n",
    "    delta = (maxx-minx)/(num_cells)\n",
    "    x = np.arange(minx, maxx+delta*0.5, delta)\n",
    "    y = np.arange(miny, maxy+delta*0.5, delta)\n",
    "    V_simple_geometry_case=np.zeros((len(y),len(x)))\n",
    "    for j in range(len(y)):\n",
    "        v = simple_geometry_case.get_V(x,y[j])\n",
    "        V_simple_geometry_case[j,:] += v\n",
    "\n",
    "    xx, yy = np.meshgrid(x, y)\n",
    "    fig, ax = plt.subplots(1,1)\n",
    "    # plot potential\n",
    "    levels=np.arange(-0.5,0.51,0.05)\n",
    "    CS=ax.contourf(xx,yy, V_simple_geometry_case,levels,cmap='RdBu',alpha=0.7)\n",
    "    cbar=fig.colorbar(CS, ax=ax)\n",
    "    ax.set_aspect('equal', 'box')\n",
    "    # set_labels\n",
    "    ax.set_xlabel(r\"$x' = x/(a+b)$ [-]\")\n",
    "    ax.set_ylabel(r\"$y' = y/(a+b)$ [-]\")\n",
    "    cbar.set_label(r'Potential [V]')\n",
    "    # draw electrodes\n",
    "    ax.plot([[-0.5,0.5],[-0.5+etas[0]/2,0.5-etas[0]/2]],[[0,0],[0,0]],'k',solid_capstyle='butt')\n",
    "    # shade the film\n",
    "    ax.add_patch(matplotlib.patches.Rectangle(\n",
    "        (minx,0),   # (x,y)\n",
    "        -minx+maxx,          # width\n",
    "        thickness_of_layers[0],          # height\n",
    "        facecolor=[0,0,0,0.1]))\n",
    "    # add dielectric constant\n",
    "    if eps_x_of_layers[0]==eps_y_of_layers[0]:\n",
    "        ax.text(0,-0.3,r'$\\varepsilon$ = '+str(eps_x_of_layers[0]), ha='center',va='center')\n",
    "    else:\n",
    "        ax.text(0,-0.3,r'$\\varepsilon_x$ = '+str(eps_x_of_layers[0])+r' $\\varepsilon_y$ = '+str(eps_y_of_layers[0]), ha='center',va='center')\n",
    "    if eps_x_of_layers[1]==eps_y_of_layers[1]:\n",
    "        ax.text(0,thickness_of_layers[0]/2,r'$\\varepsilon$ = '+str(eps_x_of_layers[1]), ha='center',va='center')\n",
    "    else:\n",
    "        ax.text(0,thickness_of_layers[0]/2,r'$\\varepsilon_x$ = '+str(eps_x_of_layers[1])+r' $\\varepsilon_y$ = '+str(eps_y_of_layers[1]), ha='center',va='center')        \n",
    "    if eps_x_of_layers[2]==eps_y_of_layers[2]:\n",
    "        ax.text(0,0.4,r'$\\varepsilon$ = '+str(eps_x_of_layers[2]), ha='center',va='center')\n",
    "    else:\n",
    "        ax.text(0,0.4,r'$\\varepsilon_x$ = '+str(eps_x_of_layers[2])+r' $\\varepsilon_y$ = '+str(eps_y_of_layers[2]), ha='center',va='center')        \n",
    "    # flip y axis\n",
    "    ax.invert_yaxis()\n",
    "    return fig\n",
    "\n",
    "fig = get_plot_pair(etas,thickness_of_layers,eps_x_of_layers,eps_y_of_layers)\n"
   ]
  },
  {
   "cell_type": "markdown",
   "metadata": {},
   "source": [
    "For visualizing C_P"
   ]
  },
  {
   "cell_type": "code",
   "execution_count": 9,
   "metadata": {},
   "outputs": [
    {
     "data": {
      "image/png": "[encoded data removed]",
      "text/plain": [
       "<Figure size 432x288 with 2 Axes>"
      ]
     },
     "metadata": {
      "needs_background": "light"
     },
     "output_type": "display_data"
    }
   ],
   "source": [
    "import numpy as np\n",
    "import matplotlib\n",
    "import matplotlib.pyplot as plt\n",
    "def get_plot_pair(etas,thickness_of_layers,eps_x_of_layers,eps_y_of_layers,LAcomp=8,max_reflections=20,num_cells=20):\n",
    "    # make case\n",
    "    simple_geometry_case = pair_conformal.multiple_recursive_images(etas,thickness_of_layers,\n",
    "                        eps_x_of_layers,eps_y_of_layers,LAcomp,max_reflections,accuracy_limit=10**-15)\n",
    "    minx=-1\n",
    "    maxx=1\n",
    "    miny=-0.5\n",
    "    maxy=0.5\n",
    "    delta = (maxx-minx)/(num_cells)\n",
    "    x = np.arange(minx, maxx+delta*0.5, delta)\n",
    "    y = np.arange(miny, maxy+delta*0.5, delta)\n",
    "    V_simple_geometry_case=np.zeros((len(y),len(x)))\n",
    "    for j in range(len(y)):\n",
    "        v = simple_geometry_case.get_V(x,y[j])\n",
    "        V_simple_geometry_case[j,:] += v\n",
    "\n",
    "    xx, yy = np.meshgrid(x, y)\n",
    "    fig, ax = plt.subplots(1,1)\n",
    "    # plot potential\n",
    "    levels=np.arange(-0.5,0.51,0.05)\n",
    "    CS=ax.contourf(xx,yy, V_simple_geometry_case,levels,cmap='RdBu',alpha=0.7)\n",
    "    cbar=fig.colorbar(CS, ax=ax)\n",
    "    ax.set_aspect('equal', 'box')\n",
    "    # set_labels\n",
    "    ax.set_xlabel(r\"$x' = x/(a+b)$ [-]\")\n",
    "    ax.set_ylabel(r\"$y' = y/(a+b)$ [-]\")\n",
    "    cbar.set_label(r'Potential [V]')\n",
    "    # draw electrodes\n",
    "    ax.plot([[-0.5-etas[0]/2,0.5+etas[0]/2],[-0.5+etas[0]/2,0.5-etas[0]/2]],[[0,0],[0,0]],'k',solid_capstyle='butt')\n",
    "    # shade the film\n",
    "    ax.add_patch(matplotlib.patches.Rectangle(\n",
    "        (minx,0),   # (x,y)\n",
    "        -minx+maxx,          # width\n",
    "        thickness_of_layers[0],          # height\n",
    "        facecolor=[0,0,0,0.1]))\n",
    "    # add dielectric constant\n",
    "    if eps_x_of_layers[0]==eps_y_of_layers[0]:\n",
    "        ax.text(0,-0.3,r'$\\varepsilon$ = '+str(eps_x_of_layers[0]), ha='center',va='center')\n",
    "    else:\n",
    "        ax.text(0,-0.3,r'$\\varepsilon_x$ = '+str(eps_x_of_layers[0])+r' $\\varepsilon_y$ = '+str(eps_y_of_layers[0]), ha='center',va='center')\n",
    "    if eps_x_of_layers[1]==eps_y_of_layers[1]:\n",
    "        ax.text(0,thickness_of_layers[0]/2,r'$\\varepsilon$ = '+str(eps_x_of_layers[1]), ha='center',va='center')\n",
    "    else:\n",
    "        ax.text(0,thickness_of_layers[0]/2,r'$\\varepsilon_x$ = '+str(eps_x_of_layers[1])+r' $\\varepsilon_y$ = '+str(eps_y_of_layers[1]), ha='center',va='center')        \n",
    "    if eps_x_of_layers[2]==eps_y_of_layers[2]:\n",
    "        ax.text(0,0.4,r'$\\varepsilon$ = '+str(eps_x_of_layers[2]), ha='center',va='center')\n",
    "    else:\n",
    "        ax.text(0,0.4,r'$\\varepsilon_x$ = '+str(eps_x_of_layers[2])+r' $\\varepsilon_y$ = '+str(eps_y_of_layers[2]), ha='center',va='center')        \n",
    "    # flip y axis\n",
    "    ax.invert_yaxis()\n",
    "    return fig\n",
    "\n",
    "fig = get_plot_pair(etas,thickness_of_layers,eps_x_of_layers,eps_y_of_layers)\n"
   ]
  },
  {
   "cell_type": "code",
   "execution_count": null,
   "metadata": {},
   "outputs": [],
   "source": []
  }
 ],
 "metadata": {
  "kernelspec": {
   "display_name": "Python 3",
   "language": "python",
   "name": "python3"
  },
  "language_info": {
   "codemirror_mode": {
    "name": "ipython",
    "version": 3
   },
   "file_extension": ".py",
   "mimetype": "text/x-python",
   "name": "python",
   "nbconvert_exporter": "python",
   "pygments_lexer": "ipython3",
   "version": "3.6.0"
  }
 },
 "nbformat": 4,
 "nbformat_minor": 4
}
